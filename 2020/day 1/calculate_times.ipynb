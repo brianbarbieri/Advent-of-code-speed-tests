{
 "metadata": {
  "language_info": {
   "codemirror_mode": {
    "name": "ipython",
    "version": 3
   },
   "file_extension": ".py",
   "mimetype": "text/x-python",
   "name": "python",
   "nbconvert_exporter": "python",
   "pygments_lexer": "ipython3",
   "version": "3.7.5-final"
  },
  "orig_nbformat": 2,
  "kernelspec": {
   "name": "python3",
   "display_name": "Python 3.7.5 64-bit",
   "metadata": {
    "interpreter": {
     "hash": "28e29083dba6c505f2c0c3ef6a15213a3325434cd0dcd541212018311d29dc30"
    }
   }
  }
 },
 "nbformat": 4,
 "nbformat_minor": 2,
 "cells": [
  {
   "cell_type": "code",
   "execution_count": 1,
   "metadata": {},
   "outputs": [
    {
     "output_type": "stream",
     "name": "stdout",
     "text": [
      "Running the solutions of brianbarbieri(https://github.com/brianbarbieri/adventofcode2020)\n",
      "Solutions to both parts of the problem are correct\n",
      "Finished timing part 1: 0.000253849200000019\n",
      "Finished timing part 2: 0.0004155890000000113\n",
      "Saved run to README.md\n"
     ]
    }
   ],
   "source": [
    "from solutions.solution_1 import Solution_Repo as s1\n",
    "sol = s1()\n",
    "sol.assert_solution()"
   ]
  },
  {
   "cell_type": "code",
   "execution_count": 2,
   "metadata": {},
   "outputs": [
    {
     "output_type": "stream",
     "name": "stdout",
     "text": [
      "Running the solutions of 0xVector(https://github.com/0xVector/AdventOfCode2020)\n",
      "Solutions to both parts of the problem are correct\n",
      "Finished timing part 1: 0.0020076368999999944\n",
      "Finished timing part 2: 0.05990437449999999\n",
      "Saved run to README.md\n"
     ]
    }
   ],
   "source": [
    "from solutions.solution_2 import Solution_Repo as s2\n",
    "sol = s2()\n",
    "sol.assert_solution()"
   ]
  },
  {
   "cell_type": "code",
   "execution_count": 3,
   "metadata": {},
   "outputs": [
    {
     "output_type": "stream",
     "name": "stdout",
     "text": [
      "Running the solutions of Akumatic(https://github.com/Akumatic/Advent-of-Code)\n",
      "Solutions to both parts of the problem are correct\n",
      "Finished timing part 1: 0.000385181799999998\n",
      "Finished timing part 2: 0.007885124700000006\n",
      "Saved run to README.md\n"
     ]
    }
   ],
   "source": [
    "from solutions.solution_3 import Solution_Repo as s3\n",
    "sol = s3()\n",
    "sol.assert_solution()"
   ]
  }
 ]
}