{
 "metadata": {
  "language_info": {
   "codemirror_mode": {
    "name": "ipython",
    "version": 3
   },
   "file_extension": ".py",
   "mimetype": "text/x-python",
   "name": "python",
   "nbconvert_exporter": "python",
   "pygments_lexer": "ipython3",
   "version": "3.7.5-final"
  },
  "orig_nbformat": 2,
  "kernelspec": {
   "name": "python3",
   "display_name": "Python 3.7.5 64-bit",
   "metadata": {
    "interpreter": {
     "hash": "28e29083dba6c505f2c0c3ef6a15213a3325434cd0dcd541212018311d29dc30"
    }
   }
  }
 },
 "nbformat": 4,
 "nbformat_minor": 2,
 "cells": [
  {
   "cell_type": "code",
   "execution_count": 1,
   "metadata": {},
   "outputs": [
    {
     "output_type": "stream",
     "name": "stdout",
     "text": [
      "Running the solutions of brianbarbieri(https://github.com/brianbarbieri/adventofcode2020)\n",
      "Solutions to both parts of the problem are correct\n",
      "Finished timing part 1: 0.0006195100000013553\n",
      "Finished timing part 2: 11.291204059999995\n",
      "Saved run to README.md\n"
     ]
    }
   ],
   "source": [
    "from solutions.solution_1 import Solution_Repo as s1\n",
    "sol = s1()\n",
    "sol.assert_solution(number_of_runs=10)"
   ]
  },
  {
   "cell_type": "code",
   "execution_count": 2,
   "metadata": {},
   "outputs": [
    {
     "output_type": "stream",
     "name": "stdout",
     "text": [
      "Running the solutions of 0xVector(https://github.com/0xVector/AdventOfCode2020)\n",
      "Solutions to both parts of the problem are correct\n",
      "Finished timing part 1: 0.001627650000000358\n",
      "Finished timing part 2: 37.94004841000001\n",
      "Saved run to README.md\n"
     ]
    }
   ],
   "source": [
    "from solutions.solution_2 import Solution_Repo as s2\n",
    "sol = s2()\n",
    "sol.assert_solution(number_of_runs=10)"
   ]
  },
  {
   "cell_type": "code",
   "execution_count": 3,
   "metadata": {},
   "outputs": [
    {
     "output_type": "stream",
     "name": "stdout",
     "text": [
      "Running the solutions of Akumatic(https://github.com/Akumatic/Advent-of-Code)\n",
      "Solutions to both parts of the problem are correct\n",
      "Finished timing part 1: 0.0007138799999893309\n",
      "Finished timing part 2: 14.371101550000002\n",
      "Saved run to README.md\n"
     ]
    }
   ],
   "source": [
    "from solutions.solution_3 import Solution_Repo as s3\n",
    "sol = s3()\n",
    "sol.assert_solution(number_of_runs=10)"
   ]
  }
 ]
}